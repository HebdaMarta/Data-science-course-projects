{
 "cells": [
  {
   "cell_type": "code",
   "execution_count": 1,
   "metadata": {},
   "outputs": [],
   "source": [
    "import pandas as pd\n",
    "import numpy as np\n",
    "import matplotlib.pyplot as plt\n",
    "import seaborn as sns\n",
    "import xgboost as xgb\n",
    "import math\n",
    "\n",
    "from sklearn.model_selection import train_test_split \n",
    "from sklearn.preprocessing import StandardScaler\n",
    "from sklearn.model_selection import RandomizedSearchCV\n",
    "from sklearn.model_selection import GridSearchCV\n",
    "from sklearn.decomposition import PCA\n",
    "\n",
    "from sklearn.linear_model import LinearRegression\n",
    "from sklearn.tree import DecisionTreeRegressor\n",
    "from sklearn.ensemble import RandomForestRegressor\n",
    "from sklearn.svm import SVR\n",
    "from sklearn.neighbors import KNeighborsRegressor\n",
    "from xgboost import XGBRegressor\n",
    "\n",
    "from sklearn.metrics import explained_variance_score, r2_score, mean_squared_error\n",
    "from sklearn.metrics import classification_report,confusion_matrix \n",
    "\n"
   ]
  },
  {
   "cell_type": "code",
   "execution_count": 2,
   "metadata": {},
   "outputs": [
    {
     "data": {
      "text/html": [
       "<div>\n",
       "<style scoped>\n",
       "    .dataframe tbody tr th:only-of-type {\n",
       "        vertical-align: middle;\n",
       "    }\n",
       "\n",
       "    .dataframe tbody tr th {\n",
       "        vertical-align: top;\n",
       "    }\n",
       "\n",
       "    .dataframe thead th {\n",
       "        text-align: right;\n",
       "    }\n",
       "</style>\n",
       "<table border=\"1\" class=\"dataframe\">\n",
       "  <thead>\n",
       "    <tr style=\"text-align: right;\">\n",
       "      <th></th>\n",
       "      <th>age</th>\n",
       "      <th>sex</th>\n",
       "      <th>bmi</th>\n",
       "      <th>children</th>\n",
       "      <th>smoker</th>\n",
       "      <th>region</th>\n",
       "      <th>charges</th>\n",
       "    </tr>\n",
       "  </thead>\n",
       "  <tbody>\n",
       "    <tr>\n",
       "      <th>0</th>\n",
       "      <td>19</td>\n",
       "      <td>female</td>\n",
       "      <td>27.900</td>\n",
       "      <td>0</td>\n",
       "      <td>yes</td>\n",
       "      <td>southwest</td>\n",
       "      <td>16884.92400</td>\n",
       "    </tr>\n",
       "    <tr>\n",
       "      <th>1</th>\n",
       "      <td>18</td>\n",
       "      <td>male</td>\n",
       "      <td>33.770</td>\n",
       "      <td>1</td>\n",
       "      <td>no</td>\n",
       "      <td>southeast</td>\n",
       "      <td>1725.55230</td>\n",
       "    </tr>\n",
       "    <tr>\n",
       "      <th>2</th>\n",
       "      <td>28</td>\n",
       "      <td>male</td>\n",
       "      <td>33.000</td>\n",
       "      <td>3</td>\n",
       "      <td>no</td>\n",
       "      <td>southeast</td>\n",
       "      <td>4449.46200</td>\n",
       "    </tr>\n",
       "    <tr>\n",
       "      <th>3</th>\n",
       "      <td>33</td>\n",
       "      <td>male</td>\n",
       "      <td>22.705</td>\n",
       "      <td>0</td>\n",
       "      <td>no</td>\n",
       "      <td>northwest</td>\n",
       "      <td>21984.47061</td>\n",
       "    </tr>\n",
       "    <tr>\n",
       "      <th>4</th>\n",
       "      <td>32</td>\n",
       "      <td>male</td>\n",
       "      <td>28.880</td>\n",
       "      <td>0</td>\n",
       "      <td>no</td>\n",
       "      <td>northwest</td>\n",
       "      <td>3866.85520</td>\n",
       "    </tr>\n",
       "    <tr>\n",
       "      <th>...</th>\n",
       "      <td>...</td>\n",
       "      <td>...</td>\n",
       "      <td>...</td>\n",
       "      <td>...</td>\n",
       "      <td>...</td>\n",
       "      <td>...</td>\n",
       "      <td>...</td>\n",
       "    </tr>\n",
       "    <tr>\n",
       "      <th>1333</th>\n",
       "      <td>50</td>\n",
       "      <td>male</td>\n",
       "      <td>30.970</td>\n",
       "      <td>3</td>\n",
       "      <td>no</td>\n",
       "      <td>northwest</td>\n",
       "      <td>10600.54830</td>\n",
       "    </tr>\n",
       "    <tr>\n",
       "      <th>1334</th>\n",
       "      <td>18</td>\n",
       "      <td>female</td>\n",
       "      <td>31.920</td>\n",
       "      <td>0</td>\n",
       "      <td>no</td>\n",
       "      <td>northeast</td>\n",
       "      <td>2205.98080</td>\n",
       "    </tr>\n",
       "    <tr>\n",
       "      <th>1335</th>\n",
       "      <td>18</td>\n",
       "      <td>female</td>\n",
       "      <td>36.850</td>\n",
       "      <td>0</td>\n",
       "      <td>no</td>\n",
       "      <td>southeast</td>\n",
       "      <td>1629.83350</td>\n",
       "    </tr>\n",
       "    <tr>\n",
       "      <th>1336</th>\n",
       "      <td>21</td>\n",
       "      <td>female</td>\n",
       "      <td>25.800</td>\n",
       "      <td>0</td>\n",
       "      <td>no</td>\n",
       "      <td>southwest</td>\n",
       "      <td>2007.94500</td>\n",
       "    </tr>\n",
       "    <tr>\n",
       "      <th>1337</th>\n",
       "      <td>61</td>\n",
       "      <td>female</td>\n",
       "      <td>29.070</td>\n",
       "      <td>0</td>\n",
       "      <td>yes</td>\n",
       "      <td>northwest</td>\n",
       "      <td>29141.36030</td>\n",
       "    </tr>\n",
       "  </tbody>\n",
       "</table>\n",
       "<p>1338 rows × 7 columns</p>\n",
       "</div>"
      ],
      "text/plain": [
       "      age     sex     bmi  children smoker     region      charges\n",
       "0      19  female  27.900         0    yes  southwest  16884.92400\n",
       "1      18    male  33.770         1     no  southeast   1725.55230\n",
       "2      28    male  33.000         3     no  southeast   4449.46200\n",
       "3      33    male  22.705         0     no  northwest  21984.47061\n",
       "4      32    male  28.880         0     no  northwest   3866.85520\n",
       "...   ...     ...     ...       ...    ...        ...          ...\n",
       "1333   50    male  30.970         3     no  northwest  10600.54830\n",
       "1334   18  female  31.920         0     no  northeast   2205.98080\n",
       "1335   18  female  36.850         0     no  southeast   1629.83350\n",
       "1336   21  female  25.800         0     no  southwest   2007.94500\n",
       "1337   61  female  29.070         0    yes  northwest  29141.36030\n",
       "\n",
       "[1338 rows x 7 columns]"
      ]
     },
     "execution_count": 2,
     "metadata": {},
     "output_type": "execute_result"
    }
   ],
   "source": [
    "df = pd.read_csv(\"insurance.csv\")\n",
    "df"
   ]
  },
  {
   "cell_type": "code",
   "execution_count": 3,
   "metadata": {},
   "outputs": [
    {
     "name": "stdout",
     "output_type": "stream",
     "text": [
      "Indeksy zmiennych, które należy usunąć: []\n"
     ]
    },
    {
     "data": {
      "image/png": "[encoded data removed]",
      "text/plain": [
       "<Figure size 720x576 with 2 Axes>"
      ]
     },
     "metadata": {},
     "output_type": "display_data"
    }
   ],
   "source": [
    "correlation_matrix = np.round(df.corr(),3)\n",
    "\n",
    "sns.set(rc={'figure.figsize':(10,8)}) \n",
    "color_map = sns.diverging_palette(240, 10, n=10)\n",
    "mask = np.triu(np.ones_like(correlation_matrix), k=0)\n",
    "sns.heatmap(correlation_matrix,vmin=-1.,vmax=1.,cmap=color_map,mask=mask,square=True) \n",
    "pass\n",
    "\n",
    "M = np.tril(correlation_matrix.to_numpy(),k=-1) \n",
    "r,c = np.where(np.abs(M)>=0.8)\n",
    "c=np.unique(c)\n",
    "print(f'Indeksy zmiennych, które należy usunąć: {c}' )\n"
   ]
  },
  {
   "cell_type": "code",
   "execution_count": 4,
   "metadata": {},
   "outputs": [
    {
     "data": {
      "text/plain": [
       "array([[<matplotlib.axes._subplots.AxesSubplot object at 0x7fe6b827f2b0>,\n",
       "        <matplotlib.axes._subplots.AxesSubplot object at 0x7fe6b82a7760>],\n",
       "       [<matplotlib.axes._subplots.AxesSubplot object at 0x7fe6b8252c10>,\n",
       "        <matplotlib.axes._subplots.AxesSubplot object at 0x7fe6b8200100>]],\n",
       "      dtype=object)"
      ]
     },
     "execution_count": 4,
     "metadata": {},
     "output_type": "execute_result"
    },
    {
     "data": {
      "image/png": "[encoded data removed]",
      "text/plain": [
       "<Figure size 720x576 with 4 Axes>"
      ]
     },
     "metadata": {},
     "output_type": "display_data"
    }
   ],
   "source": [
    "df.hist(bins=50)"
   ]
  },
  {
   "cell_type": "code",
   "execution_count": 5,
   "metadata": {},
   "outputs": [
    {
     "data": {
      "text/plain": [
       "<matplotlib.axes._subplots.AxesSubplot at 0x7fe6b7ddb1f0>"
      ]
     },
     "execution_count": 5,
     "metadata": {},
     "output_type": "execute_result"
    },
    {
     "data": {
      "image/png": "[encoded data removed]",
      "text/plain": [
       "<Figure size 720x576 with 1 Axes>"
      ]
     },
     "metadata": {},
     "output_type": "display_data"
    }
   ],
   "source": [
    "df['charges'] = df['charges']**0.1\n",
    "\n",
    "df['charges'].hist(bins=50)"
   ]
  },
  {
   "cell_type": "code",
   "execution_count": 6,
   "metadata": {},
   "outputs": [],
   "source": [
    "new = np.array(df['age'])\n",
    "new = new.reshape(-1,1)\n",
    "\n",
    "scaler = StandardScaler()\n",
    "scaler.fit(new)\n",
    "df['age'] = scaler.transform(new)\n"
   ]
  },
  {
   "cell_type": "code",
   "execution_count": 7,
   "metadata": {},
   "outputs": [
    {
     "data": {
      "text/plain": [
       "array([[<matplotlib.axes._subplots.AxesSubplot object at 0x7fe6b839c580>,\n",
       "        <matplotlib.axes._subplots.AxesSubplot object at 0x7fe6b83a6d30>],\n",
       "       [<matplotlib.axes._subplots.AxesSubplot object at 0x7fe6b7df1970>,\n",
       "        <matplotlib.axes._subplots.AxesSubplot object at 0x7fe6b7f073d0>]],\n",
       "      dtype=object)"
      ]
     },
     "execution_count": 7,
     "metadata": {},
     "output_type": "execute_result"
    },
    {
     "data": {
      "image/png": "[encoded data removed]",
      "text/plain": [
       "<Figure size 720x576 with 4 Axes>"
      ]
     },
     "metadata": {},
     "output_type": "display_data"
    }
   ],
   "source": [
    "df.hist(bins=50)"
   ]
  },
  {
   "cell_type": "code",
   "execution_count": 8,
   "metadata": {},
   "outputs": [
    {
     "data": {
      "text/html": [
       "<div>\n",
       "<style scoped>\n",
       "    .dataframe tbody tr th:only-of-type {\n",
       "        vertical-align: middle;\n",
       "    }\n",
       "\n",
       "    .dataframe tbody tr th {\n",
       "        vertical-align: top;\n",
       "    }\n",
       "\n",
       "    .dataframe thead th {\n",
       "        text-align: right;\n",
       "    }\n",
       "</style>\n",
       "<table border=\"1\" class=\"dataframe\">\n",
       "  <thead>\n",
       "    <tr style=\"text-align: right;\">\n",
       "      <th></th>\n",
       "      <th>age</th>\n",
       "      <th>bmi</th>\n",
       "      <th>children</th>\n",
       "      <th>charges</th>\n",
       "      <th>sex_female</th>\n",
       "      <th>sex_male</th>\n",
       "      <th>smoker_no</th>\n",
       "      <th>smoker_yes</th>\n",
       "      <th>region_northeast</th>\n",
       "      <th>region_northwest</th>\n",
       "      <th>region_southeast</th>\n",
       "      <th>region_southwest</th>\n",
       "    </tr>\n",
       "  </thead>\n",
       "  <tbody>\n",
       "    <tr>\n",
       "      <th>0</th>\n",
       "      <td>-1.438764</td>\n",
       "      <td>27.900</td>\n",
       "      <td>0</td>\n",
       "      <td>2.646975</td>\n",
       "      <td>1</td>\n",
       "      <td>0</td>\n",
       "      <td>0</td>\n",
       "      <td>1</td>\n",
       "      <td>0</td>\n",
       "      <td>0</td>\n",
       "      <td>0</td>\n",
       "      <td>1</td>\n",
       "    </tr>\n",
       "    <tr>\n",
       "      <th>1</th>\n",
       "      <td>-1.509965</td>\n",
       "      <td>33.770</td>\n",
       "      <td>1</td>\n",
       "      <td>2.107137</td>\n",
       "      <td>0</td>\n",
       "      <td>1</td>\n",
       "      <td>1</td>\n",
       "      <td>0</td>\n",
       "      <td>0</td>\n",
       "      <td>0</td>\n",
       "      <td>1</td>\n",
       "      <td>0</td>\n",
       "    </tr>\n",
       "    <tr>\n",
       "      <th>2</th>\n",
       "      <td>-0.797954</td>\n",
       "      <td>33.000</td>\n",
       "      <td>3</td>\n",
       "      <td>2.316492</td>\n",
       "      <td>0</td>\n",
       "      <td>1</td>\n",
       "      <td>1</td>\n",
       "      <td>0</td>\n",
       "      <td>0</td>\n",
       "      <td>0</td>\n",
       "      <td>1</td>\n",
       "      <td>0</td>\n",
       "    </tr>\n",
       "    <tr>\n",
       "      <th>3</th>\n",
       "      <td>-0.441948</td>\n",
       "      <td>22.705</td>\n",
       "      <td>0</td>\n",
       "      <td>2.717763</td>\n",
       "      <td>0</td>\n",
       "      <td>1</td>\n",
       "      <td>1</td>\n",
       "      <td>0</td>\n",
       "      <td>0</td>\n",
       "      <td>1</td>\n",
       "      <td>0</td>\n",
       "      <td>0</td>\n",
       "    </tr>\n",
       "    <tr>\n",
       "      <th>4</th>\n",
       "      <td>-0.513149</td>\n",
       "      <td>28.880</td>\n",
       "      <td>0</td>\n",
       "      <td>2.284209</td>\n",
       "      <td>0</td>\n",
       "      <td>1</td>\n",
       "      <td>1</td>\n",
       "      <td>0</td>\n",
       "      <td>0</td>\n",
       "      <td>1</td>\n",
       "      <td>0</td>\n",
       "      <td>0</td>\n",
       "    </tr>\n",
       "    <tr>\n",
       "      <th>...</th>\n",
       "      <td>...</td>\n",
       "      <td>...</td>\n",
       "      <td>...</td>\n",
       "      <td>...</td>\n",
       "      <td>...</td>\n",
       "      <td>...</td>\n",
       "      <td>...</td>\n",
       "      <td>...</td>\n",
       "      <td>...</td>\n",
       "      <td>...</td>\n",
       "      <td>...</td>\n",
       "      <td>...</td>\n",
       "    </tr>\n",
       "    <tr>\n",
       "      <th>1333</th>\n",
       "      <td>0.768473</td>\n",
       "      <td>30.970</td>\n",
       "      <td>3</td>\n",
       "      <td>2.526579</td>\n",
       "      <td>0</td>\n",
       "      <td>1</td>\n",
       "      <td>1</td>\n",
       "      <td>0</td>\n",
       "      <td>0</td>\n",
       "      <td>1</td>\n",
       "      <td>0</td>\n",
       "      <td>0</td>\n",
       "    </tr>\n",
       "    <tr>\n",
       "      <th>1334</th>\n",
       "      <td>-1.509965</td>\n",
       "      <td>31.920</td>\n",
       "      <td>0</td>\n",
       "      <td>2.159535</td>\n",
       "      <td>1</td>\n",
       "      <td>0</td>\n",
       "      <td>1</td>\n",
       "      <td>0</td>\n",
       "      <td>1</td>\n",
       "      <td>0</td>\n",
       "      <td>0</td>\n",
       "      <td>0</td>\n",
       "    </tr>\n",
       "    <tr>\n",
       "      <th>1335</th>\n",
       "      <td>-1.509965</td>\n",
       "      <td>36.850</td>\n",
       "      <td>0</td>\n",
       "      <td>2.095146</td>\n",
       "      <td>1</td>\n",
       "      <td>0</td>\n",
       "      <td>1</td>\n",
       "      <td>0</td>\n",
       "      <td>0</td>\n",
       "      <td>0</td>\n",
       "      <td>1</td>\n",
       "      <td>0</td>\n",
       "    </tr>\n",
       "    <tr>\n",
       "      <th>1336</th>\n",
       "      <td>-1.296362</td>\n",
       "      <td>25.800</td>\n",
       "      <td>0</td>\n",
       "      <td>2.139317</td>\n",
       "      <td>1</td>\n",
       "      <td>0</td>\n",
       "      <td>1</td>\n",
       "      <td>0</td>\n",
       "      <td>0</td>\n",
       "      <td>0</td>\n",
       "      <td>0</td>\n",
       "      <td>1</td>\n",
       "    </tr>\n",
       "    <tr>\n",
       "      <th>1337</th>\n",
       "      <td>1.551686</td>\n",
       "      <td>29.070</td>\n",
       "      <td>0</td>\n",
       "      <td>2.795445</td>\n",
       "      <td>1</td>\n",
       "      <td>0</td>\n",
       "      <td>0</td>\n",
       "      <td>1</td>\n",
       "      <td>0</td>\n",
       "      <td>1</td>\n",
       "      <td>0</td>\n",
       "      <td>0</td>\n",
       "    </tr>\n",
       "  </tbody>\n",
       "</table>\n",
       "<p>1338 rows × 12 columns</p>\n",
       "</div>"
      ],
      "text/plain": [
       "           age     bmi  children   charges  sex_female  sex_male  smoker_no  \\\n",
       "0    -1.438764  27.900         0  2.646975           1         0          0   \n",
       "1    -1.509965  33.770         1  2.107137           0         1          1   \n",
       "2    -0.797954  33.000         3  2.316492           0         1          1   \n",
       "3    -0.441948  22.705         0  2.717763           0         1          1   \n",
       "4    -0.513149  28.880         0  2.284209           0         1          1   \n",
       "...        ...     ...       ...       ...         ...       ...        ...   \n",
       "1333  0.768473  30.970         3  2.526579           0         1          1   \n",
       "1334 -1.509965  31.920         0  2.159535           1         0          1   \n",
       "1335 -1.509965  36.850         0  2.095146           1         0          1   \n",
       "1336 -1.296362  25.800         0  2.139317           1         0          1   \n",
       "1337  1.551686  29.070         0  2.795445           1         0          0   \n",
       "\n",
       "      smoker_yes  region_northeast  region_northwest  region_southeast  \\\n",
       "0              1                 0                 0                 0   \n",
       "1              0                 0                 0                 1   \n",
       "2              0                 0                 0                 1   \n",
       "3              0                 0                 1                 0   \n",
       "4              0                 0                 1                 0   \n",
       "...          ...               ...               ...               ...   \n",
       "1333           0                 0                 1                 0   \n",
       "1334           0                 1                 0                 0   \n",
       "1335           0                 0                 0                 1   \n",
       "1336           0                 0                 0                 0   \n",
       "1337           1                 0                 1                 0   \n",
       "\n",
       "      region_southwest  \n",
       "0                    1  \n",
       "1                    0  \n",
       "2                    0  \n",
       "3                    0  \n",
       "4                    0  \n",
       "...                ...  \n",
       "1333                 0  \n",
       "1334                 0  \n",
       "1335                 0  \n",
       "1336                 1  \n",
       "1337                 0  \n",
       "\n",
       "[1338 rows x 12 columns]"
      ]
     },
     "execution_count": 8,
     "metadata": {},
     "output_type": "execute_result"
    }
   ],
   "source": [
    "df_dummy = pd.get_dummies(df, columns=['sex','smoker','region'])\n",
    "df_dummy"
   ]
  },
  {
   "cell_type": "code",
   "execution_count": 9,
   "metadata": {},
   "outputs": [
    {
     "name": "stdout",
     "output_type": "stream",
     "text": [
      "<class 'pandas.core.frame.DataFrame'>\n",
      "RangeIndex: 1338 entries, 0 to 1337\n",
      "Data columns (total 12 columns):\n",
      " #   Column            Non-Null Count  Dtype  \n",
      "---  ------            --------------  -----  \n",
      " 0   age               1338 non-null   float64\n",
      " 1   bmi               1338 non-null   float64\n",
      " 2   children          1338 non-null   int64  \n",
      " 3   charges           1338 non-null   float64\n",
      " 4   sex_female        1338 non-null   uint8  \n",
      " 5   sex_male          1338 non-null   uint8  \n",
      " 6   smoker_no         1338 non-null   uint8  \n",
      " 7   smoker_yes        1338 non-null   uint8  \n",
      " 8   region_northeast  1338 non-null   uint8  \n",
      " 9   region_northwest  1338 non-null   uint8  \n",
      " 10  region_southeast  1338 non-null   uint8  \n",
      " 11  region_southwest  1338 non-null   uint8  \n",
      "dtypes: float64(3), int64(1), uint8(8)\n",
      "memory usage: 52.4 KB\n"
     ]
    }
   ],
   "source": [
    "df_dummy.info()"
   ]
  },
  {
   "cell_type": "code",
   "execution_count": 10,
   "metadata": {},
   "outputs": [],
   "source": [
    "X = df_dummy.drop(columns = ['charges', 'sex_female', 'smoker_no', 'region_southwest']).dropna()\n",
    "Y = df_dummy['charges']"
   ]
  },
  {
   "cell_type": "code",
   "execution_count": 11,
   "metadata": {},
   "outputs": [
    {
     "data": {
      "image/png": "[encoded data removed]",
      "text/plain": [
       "<Figure size 720x504 with 1 Axes>"
      ]
     },
     "metadata": {},
     "output_type": "display_data"
    }
   ],
   "source": [
    "import matplotlib.pyplot as plt\n",
    "from matplotlib.pylab import rcParams\n",
    "\n",
    "rcParams['figure.figsize'] = 10, 7\n",
    "plt.hist(Y, bins=20)\n",
    "_ = plt.title(\"Histogram of charges\")"
   ]
  },
  {
   "cell_type": "code",
   "execution_count": 12,
   "metadata": {},
   "outputs": [],
   "source": [
    "X_train, X_test, Y_train, Y_test = train_test_split(X, Y, test_size=0.2)"
   ]
  },
  {
   "cell_type": "code",
   "execution_count": 13,
   "metadata": {},
   "outputs": [
    {
     "name": "stdout",
     "output_type": "stream",
     "text": [
      "80\n",
      "{'n_estimators': 10, 'min_samples_leaf': 8, 'max_depth': 8}\n",
      "{'n_estimators': 10, 'min_samples_leaf': 20, 'max_depth': 2}\n",
      "{'n_estimators': 50, 'min_samples_leaf': 2, 'max_depth': 2}\n",
      "{'n_estimators': 10, 'min_samples_leaf': 4, 'max_depth': None}\n",
      "{'n_estimators': 20, 'min_samples_leaf': 8, 'max_depth': 5}\n",
      "{'n_estimators': 10, 'min_samples_leaf': 20, 'max_depth': 5}\n",
      "48\n"
     ]
    },
    {
     "data": {
      "text/plain": [
       "{'max_depth': 8, 'min_samples_leaf': 8, 'n_estimators': 50}"
      ]
     },
     "execution_count": 13,
     "metadata": {},
     "output_type": "execute_result"
    }
   ],
   "source": [
    "# Model_1 Random_forest\n",
    "\n",
    "def grid_combination(grid):\n",
    "    total_params = 1 \n",
    "    for par in grid:\n",
    "        total_params  = total_params * len(grid[par])\n",
    "    return total_params\n",
    "\n",
    "# Random search\n",
    "\n",
    "param_grid = {\"max_depth\": [2,5,8, 10, None],\n",
    "            \"n_estimators\":[10,20,50,100],\n",
    "            \"min_samples_leaf\":[2,4,8,20]\n",
    "             }\n",
    "print(grid_combination(param_grid))\n",
    "\n",
    "crf = RandomForestRegressor(random_state=2042)\n",
    "random_search = RandomizedSearchCV(crf, param_distributions=param_grid, cv=4,n_iter=30,verbose=0, random_state=2042)\n",
    "random_search.fit(X_train, Y_train)\n",
    "\n",
    "ranks = random_search.cv_results_['rank_test_score']\n",
    "ranks.sort()\n",
    "n = 6\n",
    "for i in range(n):\n",
    "    print(random_search.cv_results_['params'][ranks[i]])\n",
    "\n",
    "# # Grid search\n",
    "\n",
    "param_grid = {\"max_depth\": [2, 5,8, None],\n",
    "            \"n_estimators\":[10,20, 50],\n",
    "            \"min_samples_leaf\":[2,4, 8, 20]\n",
    "             }\n",
    "print(grid_combination(param_grid))\n",
    "\n",
    "grid_search = GridSearchCV(crf, param_grid=param_grid, cv=5,verbose=0)\n",
    "grid_search.fit(X_train, Y_train)\n",
    "grid_search.best_params_"
   ]
  },
  {
   "cell_type": "code",
   "execution_count": 14,
   "metadata": {},
   "outputs": [
    {
     "data": {
      "text/plain": [
       "RandomForestRegressor(max_depth=5, min_samples_leaf=2, n_estimators=50,\n",
       "                      random_state=2042)"
      ]
     },
     "execution_count": 14,
     "metadata": {},
     "output_type": "execute_result"
    }
   ],
   "source": [
    "model_1 = RandomForestRegressor(max_depth = 5, n_estimators =50, min_samples_leaf=2, random_state=2042)\n",
    "model_1.fit(X_train, Y_train)\n"
   ]
  },
  {
   "cell_type": "code",
   "execution_count": 15,
   "metadata": {},
   "outputs": [
    {
     "name": "stdout",
     "output_type": "stream",
     "text": [
      "Wynik na zbiorze testowym explained variance score: 0.8599416224744104\n",
      "Wynik na zbiorze testowym r2: 0.8599220491832322\n",
      "Wynik na zbiorze testowym mean_squared_error: 0.008096749424270504\n"
     ]
    }
   ],
   "source": [
    "predict_1 = model_1.predict(X_test)\n",
    "\n",
    "print('Wynik na zbiorze testowym explained variance score:', explained_variance_score(Y_test,predict_1))\n",
    "print('Wynik na zbiorze testowym r2:', r2_score(Y_test,predict_1))\n",
    "print('Wynik na zbiorze testowym mean_squared_error:', mean_squared_error(Y_test,predict_1))"
   ]
  },
  {
   "cell_type": "code",
   "execution_count": 16,
   "metadata": {},
   "outputs": [
    {
     "name": "stdout",
     "output_type": "stream",
     "text": [
      "0\n",
      "1\n",
      "2\n",
      "3\n",
      "4\n",
      "5\n",
      "6\n",
      "7\n",
      "8\n",
      "9\n",
      "Średni wynik modelu na zbiorze testowym r_2:  0.817175083810907\n"
     ]
    }
   ],
   "source": [
    "model_r2 = []\n",
    "\n",
    "for iteration in range(10):\n",
    "    print(iteration)\n",
    "    x_train, x_test, y_train, y_test = train_test_split(X, Y, test_size=0.2)\n",
    "    clf = RandomForestRegressor(max_depth = 5, n_estimators =50, min_samples_leaf=2, random_state=2042)\n",
    "    clf.fit(x_train, y_train)\n",
    "    predict = clf.predict(x_test)\n",
    "    model_r2.append(r2_score(y_test, predict))\n",
    "\n",
    "print(\"Średni wynik modelu na zbiorze testowym r_2: \", np.mean(model_r2))"
   ]
  },
  {
   "cell_type": "code",
   "execution_count": 17,
   "metadata": {},
   "outputs": [
    {
     "data": {
      "image/png": "[encoded data removed]",
      "text/plain": [
       "<Figure size 720x504 with 1 Axes>"
      ]
     },
     "metadata": {},
     "output_type": "display_data"
    }
   ],
   "source": [
    "model_1.feature_importances_\n",
    "feature_list = ['Age', 'bmi', 'children', 'sex_m', 'smoker_y','reg n-w', 'ne', 'se']\n",
    "\n",
    "plt.bar(feature_list,model_1.feature_importances_)\n",
    "plt.xticks(rotation=45)\n",
    "pass"
   ]
  },
  {
   "cell_type": "code",
   "execution_count": 18,
   "metadata": {},
   "outputs": [
    {
     "data": {
      "image/png": "[encoded data removed]",
      "text/plain": [
       "<Figure size 720x504 with 1 Axes>"
      ]
     },
     "metadata": {},
     "output_type": "display_data"
    }
   ],
   "source": [
    "pca = PCA()\n",
    "pca.fit(X_train)\n",
    "\n",
    "plt.bar(range(pca.n_components_),pca.explained_variance_ratio_)\n",
    "pass\n",
    "\n",
    "\n",
    "n_pca_comp=8\n",
    "X_pca_train = pca.transform(X_train)[:,:n_pca_comp+1]\n",
    "X_pca_test = pca.transform(X_test)[:,:n_pca_comp+1]"
   ]
  },
  {
   "cell_type": "code",
   "execution_count": 19,
   "metadata": {},
   "outputs": [
    {
     "name": "stdout",
     "output_type": "stream",
     "text": [
      "Wynik na zbiorze testowym explained variance score: 0.8571128408110794\n",
      "Wynik na zbiorze testowym r2: 0.8570602363444998\n",
      "Wynik na zbiorze testowym mean_squared_error: 0.008262167188588647\n"
     ]
    }
   ],
   "source": [
    "model_2 = RandomForestRegressor(max_depth = 5, n_estimators =50, min_samples_leaf=2, random_state=2042)\n",
    "model_2.fit(X_pca_train, Y_train)\n",
    "\n",
    "predict_2 = model_2.predict(X_pca_test)\n",
    "\n",
    "print('Wynik na zbiorze testowym explained variance score:', explained_variance_score(Y_test,predict_2))\n",
    "print('Wynik na zbiorze testowym r2:', r2_score(Y_test,predict_2))\n",
    "print('Wynik na zbiorze testowym mean_squared_error:', mean_squared_error(Y_test,predict_2))"
   ]
  },
  {
   "cell_type": "code",
   "execution_count": 20,
   "metadata": {},
   "outputs": [
    {
     "name": "stdout",
     "output_type": "stream",
     "text": [
      "Wynik na zbiorze treningowym explained variance score: 0.8713321155099117\n",
      "Wynik na zbiorze treningowym r2: 0.871319993465821\n",
      "Wynik na zbiorze treningowym mean_squared_error: 0.006534683660677777\n"
     ]
    }
   ],
   "source": [
    "# Sprawdzenie modelu na danych treningowych\n",
    "\n",
    "predict_2_tr = model_2.predict(X_pca_train)\n",
    "\n",
    "print('Wynik na zbiorze treningowym explained variance score:', explained_variance_score(Y_train,predict_2_tr))\n",
    "print('Wynik na zbiorze treningowym r2:', r2_score(Y_train,predict_2_tr))\n",
    "print('Wynik na zbiorze treningowym mean_squared_error:', mean_squared_error(Y_train,predict_2_tr))\n"
   ]
  },
  {
   "cell_type": "code",
   "execution_count": 21,
   "metadata": {},
   "outputs": [
    {
     "name": "stdout",
     "output_type": "stream",
     "text": [
      "160\n",
      "{'n_estimators': 10, 'max_depth': 10, 'learning_rate': 0.001}\n",
      "{'n_estimators': 50, 'max_depth': None, 'learning_rate': 0.01}\n",
      "{'n_estimators': 50, 'max_depth': 2, 'learning_rate': 0.05}\n",
      "{'n_estimators': 20, 'max_depth': 8, 'learning_rate': 0.1}\n",
      "{'n_estimators': 100, 'max_depth': 2, 'learning_rate': 0.3}\n",
      "{'n_estimators': 10, 'max_depth': 8, 'learning_rate': 0.05}\n",
      "80\n"
     ]
    },
    {
     "data": {
      "text/plain": [
       "{'learning_rate': 0.1, 'max_depth': 2, 'n_estimators': 100}"
      ]
     },
     "execution_count": 21,
     "metadata": {},
     "output_type": "execute_result"
    }
   ],
   "source": [
    "# Model_2 XGboost\n",
    "\n",
    "def grid_combination(grid):\n",
    "    total_params = 1 \n",
    "    for par in grid:\n",
    "        total_params  = total_params * len(grid[par])\n",
    "    return total_params\n",
    "\n",
    "# Random search\n",
    "\n",
    "param_grid = {\"max_depth\": [2,5,8, 10, None],\n",
    "            \"n_estimators\":[10,20,50,100],\n",
    "            \"learning_rate\":[0.001,0.003,0.01,0.03, 0.05, 0.1, 0.3, 0.5]\n",
    "             }\n",
    "print(grid_combination(param_grid))\n",
    "\n",
    "crf_2 = xgb.XGBRegressor()\n",
    "random_search = RandomizedSearchCV(crf_2, param_distributions=param_grid, cv=4,n_iter=30,verbose=0, random_state=2042)\n",
    "random_search.fit(X_train, Y_train)\n",
    "\n",
    "ranks = random_search.cv_results_['rank_test_score']\n",
    "ranks.sort()\n",
    "n = 6\n",
    "for i in range(n):\n",
    "    print(random_search.cv_results_['params'][ranks[i]])\n",
    "\n",
    "# Grid search\n",
    "\n",
    "param_grid = {\"max_depth\": [2,8,10, None],\n",
    "            \"n_estimators\":[10,20, 50, 100],\n",
    "            \"learning_rate\":[0.001,0.01,0.05, 0.1, 0.3]\n",
    "             }\n",
    "print(grid_combination(param_grid))\n",
    "\n",
    "grid_search = GridSearchCV(crf_2, param_grid=param_grid, cv=5,verbose=0)\n",
    "grid_search.fit(X_train, Y_train)\n",
    "grid_search.best_params_"
   ]
  },
  {
   "cell_type": "code",
   "execution_count": 22,
   "metadata": {},
   "outputs": [
    {
     "data": {
      "text/plain": [
       "XGBRegressor(base_score=0.5, booster='gbtree', colsample_bylevel=1,\n",
       "             colsample_bynode=1, colsample_bytree=1, gamma=0, gpu_id=-1,\n",
       "             importance_type='gain', interaction_constraints='',\n",
       "             learning_rate=0.1, max_delta_step=0, max_depth=2,\n",
       "             min_child_weight=1, missing=nan, monotone_constraints='()',\n",
       "             n_estimators=100, n_jobs=4, num_parallel_tree=1, random_state=2042,\n",
       "             reg_alpha=0, reg_lambda=1, scale_pos_weight=1, subsample=1,\n",
       "             tree_method='exact', validate_parameters=1, verbosity=None)"
      ]
     },
     "execution_count": 22,
     "metadata": {},
     "output_type": "execute_result"
    }
   ],
   "source": [
    "model_2 = xgb.XGBRegressor(max_depth = 2, n_estimators =100, learning_rate=0.1, random_state=2042)\n",
    "model_2.fit(X_train, Y_train)\n"
   ]
  },
  {
   "cell_type": "code",
   "execution_count": 23,
   "metadata": {},
   "outputs": [
    {
     "name": "stdout",
     "output_type": "stream",
     "text": [
      "Wynik na zbiorze treningowym explained variance score: 0.8564199091708355\n",
      "Wynik na zbiorze treningowym r2: 0.8563644119143801\n",
      "Wynik na zbiorze treningowym mean_squared_error: 0.008302387052036925\n"
     ]
    }
   ],
   "source": [
    "predict_2 = model_2.predict(X_test)\n",
    "\n",
    "print('Wynik na zbiorze treningowym explained variance score:', explained_variance_score(Y_test,predict_2))\n",
    "print('Wynik na zbiorze treningowym r2:', r2_score(Y_test,predict_2))\n",
    "print('Wynik na zbiorze treningowym mean_squared_error:', mean_squared_error(Y_test,predict_2))"
   ]
  },
  {
   "cell_type": "code",
   "execution_count": 24,
   "metadata": {},
   "outputs": [
    {
     "name": "stdout",
     "output_type": "stream",
     "text": [
      "0\n",
      "1\n",
      "2\n",
      "3\n",
      "4\n",
      "5\n",
      "6\n",
      "7\n",
      "8\n",
      "9\n",
      "Średni wynik modelu na zbiorze testowym r_2: 0.8441752461642429\n"
     ]
    }
   ],
   "source": [
    "model_r2 = []\n",
    "\n",
    "for iteration in range(10):\n",
    "    print(iteration)\n",
    "    x_train, x_test, y_train, y_test = train_test_split(X, Y, test_size=0.2)\n",
    "    clf = xgb.XGBRegressor(max_depth = 2, n_estimators =20, learning_rate=0.3, random_state=2042)\n",
    "    clf.fit(x_train, y_train)\n",
    "    predict = clf.predict(x_test)\n",
    "    model_r2.append(r2_score(y_test, predict))\n",
    "\n",
    "print(\"Średni wynik modelu na zbiorze testowym r_2:\", np.mean(model_r2))"
   ]
  },
  {
   "cell_type": "code",
   "execution_count": 25,
   "metadata": {},
   "outputs": [
    {
     "name": "stdout",
     "output_type": "stream",
     "text": [
      "Wynik na zbiorze treningowym explained variance score: 0.851722366695312\n",
      "Wynik na zbiorze treningowym r2: 0.8517222118081427\n",
      "Wynik na zbiorze treningowym mean_squared_error: 0.007529906671876068\n"
     ]
    }
   ],
   "source": [
    "# Sprawdzenie modelu na danych treningowych\n",
    "\n",
    "predict_2_tr = model_2.predict(X_train)\n",
    "\n",
    "print('Wynik na zbiorze treningowym explained variance score:', explained_variance_score(Y_train,predict_2_tr))\n",
    "print('Wynik na zbiorze treningowym r2:', r2_score(Y_train,predict_2_tr))\n",
    "print('Wynik na zbiorze treningowym mean_squared_error:', mean_squared_error(Y_train,predict_2_tr))\n"
   ]
  },
  {
   "cell_type": "code",
   "execution_count": 26,
   "metadata": {},
   "outputs": [
    {
     "name": "stdout",
     "output_type": "stream",
     "text": [
      "Wynik na zbiorze testowym explained variance score: 0.807132508987501\n",
      "Wynik na zbiorze testowym r2: 0.8064698396009319\n",
      "Wynik na zbiorze testowym mean_squared_error: 0.011186380195123203\n"
     ]
    }
   ],
   "source": [
    "# Model 3 SVR\n",
    "\n",
    "model_3 = SVR(kernel='linear')\n",
    "model_3.fit(X_train, Y_train)\n",
    "\n",
    "predict_3 = model_3.predict(X_test)\n",
    "\n",
    "print('Wynik na zbiorze testowym explained variance score:', explained_variance_score(Y_test,predict_3))\n",
    "print('Wynik na zbiorze testowym r2:', r2_score(Y_test,predict_3))\n",
    "print('Wynik na zbiorze testowym mean_squared_error:', mean_squared_error(Y_test,predict_3))"
   ]
  },
  {
   "cell_type": "code",
   "execution_count": 27,
   "metadata": {},
   "outputs": [
    {
     "name": "stdout",
     "output_type": "stream",
     "text": [
      "0\n",
      "1\n",
      "2\n",
      "3\n",
      "4\n",
      "5\n",
      "6\n",
      "7\n",
      "8\n",
      "9\n",
      "Średni wynik modelu na zbiorze testowym r_2: 0.7712291259372697\n"
     ]
    }
   ],
   "source": [
    "model_r2 = []\n",
    "\n",
    "for iteration in range(10):\n",
    "    print(iteration)\n",
    "    x_train, x_test, y_train, y_test = train_test_split(X, Y, test_size=0.2)\n",
    "    clf_3 = SVR(kernel='linear')\n",
    "    clf_3.fit(x_train, y_train)\n",
    "    predict_3 = clf_3.predict(x_test)\n",
    "    model_r2.append(r2_score(y_test, predict_3))\n",
    "\n",
    "print(\"Średni wynik modelu na zbiorze testowym r_2:\", np.mean(model_r2))"
   ]
  },
  {
   "cell_type": "code",
   "execution_count": 28,
   "metadata": {},
   "outputs": [
    {
     "name": "stdout",
     "output_type": "stream",
     "text": [
      "Wynik na zbiorze treningowym explained variance score: 0.7567531635663263\n",
      "Wynik na zbiorze treningowym r2: 0.7566385317139327\n",
      "Wynik na zbiorze treningowym mean_squared_error: 0.012358487175123948\n"
     ]
    }
   ],
   "source": [
    "# Sprawdzenie modelu na danych treningowych\n",
    "\n",
    "predict_3_tr = model_3.predict(X_train)\n",
    "\n",
    "print('Wynik na zbiorze treningowym explained variance score:', explained_variance_score(Y_train,predict_3_tr))\n",
    "print('Wynik na zbiorze treningowym r2:', r2_score(Y_train,predict_3_tr))\n",
    "print('Wynik na zbiorze treningowym mean_squared_error:', mean_squared_error(Y_train,predict_3_tr))\n"
   ]
  },
  {
   "cell_type": "code",
   "execution_count": 29,
   "metadata": {},
   "outputs": [
    {
     "name": "stdout",
     "output_type": "stream",
     "text": [
      "Wynik na zbiorze testowym explained variance score: 0.8120867818946748\n",
      "Wynik na zbiorze testowym r2: 0.811026068585969\n",
      "Wynik na zbiorze testowym mean_squared_error: 0.010923022227674778\n"
     ]
    }
   ],
   "source": [
    "#  Model 4 Regresja\n",
    "\n",
    "model_4 = LinearRegression()\n",
    "model_4.fit(X_train, Y_train)\n",
    "\n",
    "predict_4 = model_4.predict(X_test)\n",
    "\n",
    "print('Wynik na zbiorze testowym explained variance score:', explained_variance_score(Y_test,predict_4))\n",
    "print('Wynik na zbiorze testowym r2:', r2_score(Y_test,predict_4))\n",
    "print('Wynik na zbiorze testowym mean_squared_error:', mean_squared_error(Y_test,predict_4))"
   ]
  },
  {
   "cell_type": "code",
   "execution_count": 30,
   "metadata": {},
   "outputs": [
    {
     "name": "stdout",
     "output_type": "stream",
     "text": [
      "0\n",
      "1\n",
      "2\n",
      "3\n",
      "4\n",
      "5\n",
      "6\n",
      "7\n",
      "8\n",
      "9\n",
      "Średni wynik modelu na zbiorze testowym r_2: 0.7644875796287595\n"
     ]
    }
   ],
   "source": [
    "model_r2 = []\n",
    "\n",
    "for iteration in range(10):\n",
    "    print(iteration)\n",
    "    x_train, x_test, y_train, y_test = train_test_split(X, Y, test_size=0.2)\n",
    "    clf_4 = LinearRegression()\n",
    "    clf_4.fit(x_train, y_train)\n",
    "    predict_4 = clf_4.predict(x_test)\n",
    "    model_r2.append(r2_score(y_test, predict_4))\n",
    "\n",
    "print(\"Średni wynik modelu na zbiorze testowym r_2:\", np.mean(model_r2))"
   ]
  },
  {
   "cell_type": "code",
   "execution_count": 31,
   "metadata": {},
   "outputs": [
    {
     "name": "stdout",
     "output_type": "stream",
     "text": [
      "Wynik na zbiorze treningowym explained variance score: 0.851722366695312\n",
      "Wynik na zbiorze treningowym r2: 0.8517222118081427\n",
      "Wynik na zbiorze treningowym mean_squared_error: 0.007529906671876068\n"
     ]
    }
   ],
   "source": [
    "# Sprawdzenie modelu na danych treningowych\n",
    "\n",
    "predict_4_tr = model_2.predict(X_train)\n",
    "\n",
    "print('Wynik na zbiorze treningowym explained variance score:', explained_variance_score(Y_train,predict_4_tr))\n",
    "print('Wynik na zbiorze treningowym r2:', r2_score(Y_train,predict_4_tr))\n",
    "print('Wynik na zbiorze treningowym mean_squared_error:', mean_squared_error(Y_train,predict_4_tr))\n"
   ]
  },
  {
   "cell_type": "code",
   "execution_count": 32,
   "metadata": {},
   "outputs": [
    {
     "name": "stdout",
     "output_type": "stream",
     "text": [
      "Wynik na zbiorze testowym explained variance score: 0.6112679850214218\n",
      "Wynik na zbiorze testowym r2: 0.5969187250438226\n",
      "Wynik na zbiorze testowym mean_squared_error: 0.02329879943207294\n"
     ]
    }
   ],
   "source": [
    "#  Model 5 KNN\n",
    "\n",
    "model_5 = KNeighborsRegressor(n_neighbors = 8, metric = 'manhattan')\n",
    "model_5.fit(X_train, Y_train)\n",
    "\n",
    "predict_5 = model_5.predict(X_test)\n",
    "\n",
    "print('Wynik na zbiorze testowym explained variance score:', explained_variance_score(Y_test,predict_5))\n",
    "print('Wynik na zbiorze testowym r2:', r2_score(Y_test,predict_5))\n",
    "print('Wynik na zbiorze testowym mean_squared_error:', mean_squared_error(Y_test,predict_5))"
   ]
  },
  {
   "cell_type": "code",
   "execution_count": 33,
   "metadata": {},
   "outputs": [
    {
     "name": "stdout",
     "output_type": "stream",
     "text": [
      "0\n",
      "1\n",
      "2\n",
      "3\n",
      "4\n",
      "5\n",
      "6\n",
      "7\n",
      "8\n",
      "9\n",
      "Średni wynik modelu na zbiorze testowym r_2: 0.5512282524327486\n"
     ]
    }
   ],
   "source": [
    "model_r2 = []\n",
    "\n",
    "for iteration in range(10):\n",
    "    print(iteration)\n",
    "    x_train, x_test, y_train, y_test = train_test_split(X, Y, test_size=0.2)\n",
    "    clf_5 = KNeighborsRegressor(n_neighbors = 8, metric = 'manhattan')\n",
    "    clf_5.fit(x_train, y_train)\n",
    "    predict_5 = clf_5.predict(x_test)\n",
    "    model_r2.append(r2_score(y_test, predict_5))\n",
    "\n",
    "print(\"Średni wynik modelu na zbiorze testowym r_2:\", np.mean(model_r2))"
   ]
  },
  {
   "cell_type": "code",
   "execution_count": 34,
   "metadata": {},
   "outputs": [
    {
     "name": "stdout",
     "output_type": "stream",
     "text": [
      "Wynik na zbiorze treningowym explained variance score: 0.6681945377687268\n",
      "Wynik na zbiorze treningowym r2: 0.6543129689814444\n",
      "Wynik na zbiorze treningowym mean_squared_error: 0.017554828089825756\n"
     ]
    }
   ],
   "source": [
    "# Sprawdzenie modelu na danych treningowych\n",
    "\n",
    "predict_5_tr = model_5.predict(X_train)\n",
    "\n",
    "print('Wynik na zbiorze treningowym explained variance score:', explained_variance_score(Y_train,predict_5_tr))\n",
    "print('Wynik na zbiorze treningowym r2:', r2_score(Y_train,predict_5_tr))\n",
    "print('Wynik na zbiorze treningowym mean_squared_error:', mean_squared_error(Y_train,predict_5_tr))\n"
   ]
  },
  {
   "cell_type": "code",
   "execution_count": null,
   "metadata": {},
   "outputs": [],
   "source": []
  }
 ],
 "metadata": {
  "kernelspec": {
   "display_name": "Python 3",
   "language": "python",
   "name": "python3"
  },
  "language_info": {
   "codemirror_mode": {
    "name": "ipython",
    "version": 3
   },
   "file_extension": ".py",
   "mimetype": "text/x-python",
   "name": "python",
   "nbconvert_exporter": "python",
   "pygments_lexer": "ipython3",
   "version": "3.8.3"
  }
 },
 "nbformat": 4,
 "nbformat_minor": 4
}
